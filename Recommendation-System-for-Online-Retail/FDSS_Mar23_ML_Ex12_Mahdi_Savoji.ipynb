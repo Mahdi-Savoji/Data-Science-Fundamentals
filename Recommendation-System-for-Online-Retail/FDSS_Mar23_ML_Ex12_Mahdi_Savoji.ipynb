{
 "cells": [
  {
   "cell_type": "markdown",
   "metadata": {
    "id": "n2LM8oFoM9bf"
   },
   "source": [
    "<h1 style=\"line-height:50px;;background:#9eb5db;border-radius:15px;height:50px;text-align:center;border:2px ridge;\n",
    "color:white;\">Ex 12</h1>"
   ]
  },
  {
   "cell_type": "markdown",
   "metadata": {
    "id": "tFukPO-EMsk5"
   },
   "source": [
    "<div style=\"background:#9eb5db;border-radius:15px;\"><h2 style=\"line-height:50px;height:50px;margin-left:20px;color:white\">Requirements\n",
    "</h2></div>"
   ]
  },
  {
   "cell_type": "code",
   "execution_count": 10,
   "metadata": {
    "id": "9XDnnMPnFfoL"
   },
   "outputs": [],
   "source": [
    "import numpy as np\n",
    "import pandas as pd\n",
    "import matplotlib.pyplot as plt\n",
    "import seaborn as sns\n",
    "import pickle\n",
    "from sklearn import metrics\n",
    "from sklearn.model_selection import GridSearchCV\n",
    "from sklearn.model_selection import RandomizedSearchCV\n",
    "from sklearn.metrics import make_scorer, recall_score\n",
    "from sklearn import metrics\n",
    "from sklearn.cluster import KMeans\n",
    "import datetime as dt"
   ]
  },
  {
   "cell_type": "markdown",
   "metadata": {
    "id": "w9D_-MG3NByh"
   },
   "source": [
    "<div style=\"background:#9eb5db;border-radius:15px;\"><h2 style=\"line-height:50px;height:50px;margin-left:20px;color:white\">Problem\n",
    "</h2></div>"
   ]
  },
  {
   "cell_type": "code",
   "execution_count": 11,
   "metadata": {
    "id": "SA6S5aaxFhS9"
   },
   "outputs": [],
   "source": [
    "df = pd.read_excel(\"Online Retail.xlsx\")"
   ]
  },
  {
   "cell_type": "code",
   "execution_count": 12,
   "metadata": {
    "colab": {
     "base_uri": "https://localhost:8080/"
    },
    "id": "OoBv22kNF7aB",
    "outputId": "6173fc56-90b7-4056-8380-3814c64b1eba",
    "scrolled": false
   },
   "outputs": [
    {
     "name": "stdout",
     "output_type": "stream",
     "text": [
      "<class 'pandas.core.frame.DataFrame'>\n",
      "RangeIndex: 541909 entries, 0 to 541908\n",
      "Data columns (total 8 columns):\n",
      " #   Column       Non-Null Count   Dtype         \n",
      "---  ------       --------------   -----         \n",
      " 0   InvoiceNo    541909 non-null  object        \n",
      " 1   StockCode    541909 non-null  object        \n",
      " 2   Description  540455 non-null  object        \n",
      " 3   Quantity     541909 non-null  int64         \n",
      " 4   InvoiceDate  541909 non-null  datetime64[ns]\n",
      " 5   UnitPrice    541909 non-null  float64       \n",
      " 6   CustomerID   406829 non-null  float64       \n",
      " 7   Country      541909 non-null  object        \n",
      "dtypes: datetime64[ns](1), float64(2), int64(1), object(4)\n",
      "memory usage: 33.1+ MB\n"
     ]
    }
   ],
   "source": [
    "df.info()"
   ]
  },
  {
   "cell_type": "code",
   "execution_count": 13,
   "metadata": {
    "colab": {
     "base_uri": "https://localhost:8080/",
     "height": 320
    },
    "id": "ZPSTWEKcGBRJ",
    "outputId": "8e22d2f2-f52f-4d5a-e78a-23bd06515e3a",
    "scrolled": true
   },
   "outputs": [
    {
     "data": {
      "text/html": [
       "<div>\n",
       "<style scoped>\n",
       "    .dataframe tbody tr th:only-of-type {\n",
       "        vertical-align: middle;\n",
       "    }\n",
       "\n",
       "    .dataframe tbody tr th {\n",
       "        vertical-align: top;\n",
       "    }\n",
       "\n",
       "    .dataframe thead th {\n",
       "        text-align: right;\n",
       "    }\n",
       "</style>\n",
       "<table border=\"1\" class=\"dataframe\">\n",
       "  <thead>\n",
       "    <tr style=\"text-align: right;\">\n",
       "      <th></th>\n",
       "      <th>Quantity</th>\n",
       "      <th>UnitPrice</th>\n",
       "      <th>CustomerID</th>\n",
       "    </tr>\n",
       "  </thead>\n",
       "  <tbody>\n",
       "    <tr>\n",
       "      <th>count</th>\n",
       "      <td>541909.000000</td>\n",
       "      <td>541909.000000</td>\n",
       "      <td>406829.000000</td>\n",
       "    </tr>\n",
       "    <tr>\n",
       "      <th>mean</th>\n",
       "      <td>9.552250</td>\n",
       "      <td>4.611114</td>\n",
       "      <td>15287.690570</td>\n",
       "    </tr>\n",
       "    <tr>\n",
       "      <th>std</th>\n",
       "      <td>218.081158</td>\n",
       "      <td>96.759853</td>\n",
       "      <td>1713.600303</td>\n",
       "    </tr>\n",
       "    <tr>\n",
       "      <th>min</th>\n",
       "      <td>-80995.000000</td>\n",
       "      <td>-11062.060000</td>\n",
       "      <td>12346.000000</td>\n",
       "    </tr>\n",
       "    <tr>\n",
       "      <th>25%</th>\n",
       "      <td>1.000000</td>\n",
       "      <td>1.250000</td>\n",
       "      <td>13953.000000</td>\n",
       "    </tr>\n",
       "    <tr>\n",
       "      <th>50%</th>\n",
       "      <td>3.000000</td>\n",
       "      <td>2.080000</td>\n",
       "      <td>15152.000000</td>\n",
       "    </tr>\n",
       "    <tr>\n",
       "      <th>75%</th>\n",
       "      <td>10.000000</td>\n",
       "      <td>4.130000</td>\n",
       "      <td>16791.000000</td>\n",
       "    </tr>\n",
       "    <tr>\n",
       "      <th>max</th>\n",
       "      <td>80995.000000</td>\n",
       "      <td>38970.000000</td>\n",
       "      <td>18287.000000</td>\n",
       "    </tr>\n",
       "  </tbody>\n",
       "</table>\n",
       "</div>"
      ],
      "text/plain": [
       "            Quantity      UnitPrice     CustomerID\n",
       "count  541909.000000  541909.000000  406829.000000\n",
       "mean        9.552250       4.611114   15287.690570\n",
       "std       218.081158      96.759853    1713.600303\n",
       "min    -80995.000000  -11062.060000   12346.000000\n",
       "25%         1.000000       1.250000   13953.000000\n",
       "50%         3.000000       2.080000   15152.000000\n",
       "75%        10.000000       4.130000   16791.000000\n",
       "max     80995.000000   38970.000000   18287.000000"
      ]
     },
     "execution_count": 13,
     "metadata": {},
     "output_type": "execute_result"
    }
   ],
   "source": [
    "df.describe()"
   ]
  },
  {
   "cell_type": "code",
   "execution_count": 14,
   "metadata": {},
   "outputs": [
    {
     "data": {
      "text/html": [
       "<div>\n",
       "<style scoped>\n",
       "    .dataframe tbody tr th:only-of-type {\n",
       "        vertical-align: middle;\n",
       "    }\n",
       "\n",
       "    .dataframe tbody tr th {\n",
       "        vertical-align: top;\n",
       "    }\n",
       "\n",
       "    .dataframe thead th {\n",
       "        text-align: right;\n",
       "    }\n",
       "</style>\n",
       "<table border=\"1\" class=\"dataframe\">\n",
       "  <thead>\n",
       "    <tr style=\"text-align: right;\">\n",
       "      <th></th>\n",
       "      <th>InvoiceNo</th>\n",
       "      <th>StockCode</th>\n",
       "      <th>Description</th>\n",
       "      <th>Quantity</th>\n",
       "      <th>InvoiceDate</th>\n",
       "      <th>UnitPrice</th>\n",
       "      <th>CustomerID</th>\n",
       "      <th>Country</th>\n",
       "    </tr>\n",
       "  </thead>\n",
       "  <tbody>\n",
       "    <tr>\n",
       "      <th>0</th>\n",
       "      <td>536365</td>\n",
       "      <td>85123A</td>\n",
       "      <td>WHITE HANGING HEART T-LIGHT HOLDER</td>\n",
       "      <td>6</td>\n",
       "      <td>2010-12-01 08:26:00</td>\n",
       "      <td>2.55</td>\n",
       "      <td>17850.0</td>\n",
       "      <td>United Kingdom</td>\n",
       "    </tr>\n",
       "    <tr>\n",
       "      <th>1</th>\n",
       "      <td>536365</td>\n",
       "      <td>71053</td>\n",
       "      <td>WHITE METAL LANTERN</td>\n",
       "      <td>6</td>\n",
       "      <td>2010-12-01 08:26:00</td>\n",
       "      <td>3.39</td>\n",
       "      <td>17850.0</td>\n",
       "      <td>United Kingdom</td>\n",
       "    </tr>\n",
       "    <tr>\n",
       "      <th>2</th>\n",
       "      <td>536365</td>\n",
       "      <td>84406B</td>\n",
       "      <td>CREAM CUPID HEARTS COAT HANGER</td>\n",
       "      <td>8</td>\n",
       "      <td>2010-12-01 08:26:00</td>\n",
       "      <td>2.75</td>\n",
       "      <td>17850.0</td>\n",
       "      <td>United Kingdom</td>\n",
       "    </tr>\n",
       "    <tr>\n",
       "      <th>3</th>\n",
       "      <td>536365</td>\n",
       "      <td>84029G</td>\n",
       "      <td>KNITTED UNION FLAG HOT WATER BOTTLE</td>\n",
       "      <td>6</td>\n",
       "      <td>2010-12-01 08:26:00</td>\n",
       "      <td>3.39</td>\n",
       "      <td>17850.0</td>\n",
       "      <td>United Kingdom</td>\n",
       "    </tr>\n",
       "    <tr>\n",
       "      <th>4</th>\n",
       "      <td>536365</td>\n",
       "      <td>84029E</td>\n",
       "      <td>RED WOOLLY HOTTIE WHITE HEART.</td>\n",
       "      <td>6</td>\n",
       "      <td>2010-12-01 08:26:00</td>\n",
       "      <td>3.39</td>\n",
       "      <td>17850.0</td>\n",
       "      <td>United Kingdom</td>\n",
       "    </tr>\n",
       "  </tbody>\n",
       "</table>\n",
       "</div>"
      ],
      "text/plain": [
       "  InvoiceNo StockCode                          Description  Quantity  \\\n",
       "0    536365    85123A   WHITE HANGING HEART T-LIGHT HOLDER         6   \n",
       "1    536365     71053                  WHITE METAL LANTERN         6   \n",
       "2    536365    84406B       CREAM CUPID HEARTS COAT HANGER         8   \n",
       "3    536365    84029G  KNITTED UNION FLAG HOT WATER BOTTLE         6   \n",
       "4    536365    84029E       RED WOOLLY HOTTIE WHITE HEART.         6   \n",
       "\n",
       "          InvoiceDate  UnitPrice  CustomerID         Country  \n",
       "0 2010-12-01 08:26:00       2.55     17850.0  United Kingdom  \n",
       "1 2010-12-01 08:26:00       3.39     17850.0  United Kingdom  \n",
       "2 2010-12-01 08:26:00       2.75     17850.0  United Kingdom  \n",
       "3 2010-12-01 08:26:00       3.39     17850.0  United Kingdom  \n",
       "4 2010-12-01 08:26:00       3.39     17850.0  United Kingdom  "
      ]
     },
     "execution_count": 14,
     "metadata": {},
     "output_type": "execute_result"
    }
   ],
   "source": [
    "df.head()"
   ]
  },
  {
   "cell_type": "code",
   "execution_count": 15,
   "metadata": {},
   "outputs": [
    {
     "name": "stdout",
     "output_type": "stream",
     "text": [
      "136534\n",
      "136534\n"
     ]
    }
   ],
   "source": [
    "# Calculate Null and NAN Item in DF\n",
    "\n",
    "print(df.isnull().sum().sum())\n",
    "print(df.isna().sum().sum())"
   ]
  },
  {
   "cell_type": "code",
   "execution_count": 16,
   "metadata": {
    "colab": {
     "base_uri": "https://localhost:8080/"
    },
    "id": "T7p7aLTiGEW5",
    "outputId": "e9c2b5c4-32f5-4929-e777-efe71966df25"
   },
   "outputs": [],
   "source": [
    "# Remove Row That Doesn't Have CustomerID Value \n",
    "\n",
    "df = df[df['CustomerID'].notnull()]"
   ]
  },
  {
   "cell_type": "code",
   "execution_count": 17,
   "metadata": {
    "colab": {
     "base_uri": "https://localhost:8080/"
    },
    "id": "hwMYG7-PGHMy",
    "outputId": "29973645-4835-496f-c271-4cabfd5583ed"
   },
   "outputs": [
    {
     "name": "stdout",
     "output_type": "stream",
     "text": [
      "0\n",
      "0\n"
     ]
    }
   ],
   "source": [
    "# Calculate Null and NAN Item in DF\n",
    "\n",
    "print(df.isnull().sum().sum())\n",
    "print(df.isna().sum().sum())"
   ]
  },
  {
   "cell_type": "code",
   "execution_count": 18,
   "metadata": {},
   "outputs": [],
   "source": [
    "# Remove Post StockCode col is in row \n",
    "\n",
    "df = df[df[\"StockCode\"] != 'POST']"
   ]
  },
  {
   "cell_type": "code",
   "execution_count": 19,
   "metadata": {},
   "outputs": [],
   "source": [
    "# # Extracting the Date from the 'InvoiceDate' column and assigning it to 'InvoiceDay'\n",
    "\n",
    "df['InvoiceDay'] = df['InvoiceDate'].apply(lambda x: dt.datetime(x.year, x.month, x.day))"
   ]
  },
  {
   "cell_type": "code",
   "execution_count": 20,
   "metadata": {},
   "outputs": [],
   "source": [
    "# Finding the latest invoice date and adding one day to set as the cutoff date\n",
    "\n",
    "pin_date = max(df['InvoiceDay']) + dt.timedelta(1)"
   ]
  },
  {
   "cell_type": "code",
   "execution_count": 21,
   "metadata": {},
   "outputs": [],
   "source": [
    "# Create Columns to Display All Fee Has Been Paid \n",
    "\n",
    "df['TotalSum'] = df['Quantity'] * df['UnitPrice']"
   ]
  },
  {
   "cell_type": "code",
   "execution_count": 22,
   "metadata": {},
   "outputs": [],
   "source": [
    "# Create rfm DataFrame with Extracted Features\n",
    "\n",
    "rfm = df.groupby('CustomerID').agg({\n",
    "    'InvoiceDay': lambda x: (pin_date - x.max()).days,\n",
    "    'InvoiceNo': 'count',\n",
    "    'TotalSum': 'sum' \n",
    "})"
   ]
  },
  {
   "cell_type": "code",
   "execution_count": 23,
   "metadata": {},
   "outputs": [],
   "source": [
    "# Change Name of Columns in rfm DataFrame\n",
    "\n",
    "rfm.rename(columns= {\n",
    "    'InvoiceDay': 'Recency',\n",
    "    'InvoiceNo': 'Frequency',\n",
    "    'TotalSum': 'Monetary'\n",
    "}, inplace=True)"
   ]
  },
  {
   "cell_type": "code",
   "execution_count": 24,
   "metadata": {},
   "outputs": [],
   "source": [
    "# Normalize & Ranking Features\n",
    "\n",
    "r_labels = range(4, 0, -1)\n",
    "r_groups, r_bins = pd.qcut(rfm['Recency'], q=4, labels=r_labels, retbins=True)\n",
    "f_labels = range(1, 5)\n",
    "f_groups, f_bins = pd.qcut(rfm['Frequency'], q=4, labels=f_labels, retbins=True)\n",
    "m_labels = range(1, 5)\n",
    "m_groups, m_bins = pd.qcut(rfm['Monetary'], q=4, labels=m_labels, retbins=True)"
   ]
  },
  {
   "cell_type": "code",
   "execution_count": 25,
   "metadata": {},
   "outputs": [],
   "source": [
    "# Add Extracted Features to rfm DataFrame\n",
    "\n",
    "rfm['R'] = r_groups.values\n",
    "rfm['F'] = f_groups.values\n",
    "rfm['M'] = m_groups.values"
   ]
  },
  {
   "cell_type": "code",
   "execution_count": 26,
   "metadata": {},
   "outputs": [
    {
     "data": {
      "text/plain": [
       "KMeans(n_clusters=10)"
      ]
     },
     "execution_count": 26,
     "metadata": {},
     "output_type": "execute_result"
    }
   ],
   "source": [
    "# Train Clustering Model\n",
    "\n",
    "X = rfm[['R', 'F', 'M']]\n",
    "kmeans = KMeans(n_clusters=10, init='k-means++', max_iter=300)\n",
    "kmeans.fit(X)"
   ]
  },
  {
   "cell_type": "code",
   "execution_count": 27,
   "metadata": {},
   "outputs": [],
   "source": [
    "# Add Kmeans_Cluster to rfm DataFrame\n",
    "\n",
    "rfm['kmeans_cluster'] = kmeans.labels_"
   ]
  },
  {
   "cell_type": "code",
   "execution_count": 28,
   "metadata": {},
   "outputs": [
    {
     "name": "stdout",
     "output_type": "stream",
     "text": [
      "{'0': ['85123A', '22423', '84879', '47566', '22720'], '1': ['84946', '84879', '85123A', '85099B', '22423'], '2': ['85123A', '85099B', '22423', '20725', '22197'], '3': ['21034', '22086', '85123A', '84879', '23084'], '4': ['85123A', '22423', '47566', '21034', '22960'], '5': ['85123A', '22423', '85099B', '20725', '84879'], '6': ['22423', '23084', '22086', '85123A', '84879'], '7': ['47566', '22423', '85099B', '85123A', '84879'], '8': ['22086', '84879', '85123A', '23344', '85099B'], '9': ['22423', '85123A', '47566', '22178', '22699']}\n"
     ]
    }
   ],
   "source": [
    "# Find Best selling product For Every 10 Cluster\n",
    "\n",
    "Recommend_Product_Dic = {}\n",
    "for i in range(10):\n",
    "    Recommend_Product_Dic[f'{i}'] = []\n",
    "\n",
    "for i in range(10):\n",
    "    temp_rfm = rfm[rfm['kmeans_cluster']==i]\n",
    "    temp_dic = {}\n",
    "    for customer_id, _  in temp_rfm.iterrows():\n",
    "        temp_df = df[df[\"CustomerID\"]==customer_id] \n",
    "        for _, buy in temp_df.iterrows():\n",
    "            if buy['StockCode'] in temp_dic:\n",
    "                temp_dic[buy['StockCode']] += 1\n",
    "            else:\n",
    "                temp_dic[buy['StockCode']] = 1\n",
    "    sorted_items = sorted(temp_dic.items(), key=lambda x: x[1], reverse=True)\n",
    "    five_max_keys = [key for key, _ in sorted_items[:5]]\n",
    "    for key in five_max_keys:   \n",
    "        Recommend_Product_Dic[f'{i}'].append(str(key))\n",
    "print(Recommend_Product_Dic)"
   ]
  },
  {
   "cell_type": "code",
   "execution_count": 29,
   "metadata": {},
   "outputs": [
    {
     "name": "stdout",
     "output_type": "stream",
     "text": [
      "      CustomerID                         RecommendStuff\n",
      "0        12346.0   [22423, 85123A, 47566, 22178, 22699]\n",
      "1        12347.0         [85123A, 85099B, 20725, 22197]\n",
      "2        12348.0  [47566, 22423, 85099B, 85123A, 84879]\n",
      "3        12349.0          [23084, 22086, 85123A, 84879]\n",
      "4        12350.0   [22423, 85123A, 47566, 22178, 22699]\n",
      "...          ...                                    ...\n",
      "4367     18280.0   [22423, 85123A, 47566, 22178, 22699]\n",
      "4368     18281.0   [22423, 85123A, 47566, 22178, 22699]\n",
      "4369     18282.0  [22086, 84879, 85123A, 23344, 85099B]\n",
      "4370     18283.0                                [22423]\n",
      "4371     18287.0  [85123A, 22423, 85099B, 20725, 84879]\n",
      "\n",
      "[4372 rows x 2 columns]\n"
     ]
    }
   ],
   "source": [
    "# Create Recommend DataFrame For All Users \n",
    "\n",
    "recommend_df = pd.DataFrame(columns=['CustomerID', 'RecommendStuff'])\n",
    "\n",
    "for customer_id, row in rfm.iterrows():\n",
    "    temp_df = df[df['CustomerID']==customer_id]\n",
    "    all_stuff = set()\n",
    "    for index, row_df in temp_df.iterrows():\n",
    "        all_stuff.add(str(row_df[\"StockCode\"]))\n",
    "    \n",
    "    cluster = int(row[\"kmeans_cluster\"])\n",
    "    recommend_stuff = [x for x in Recommend_Product_Dic[f'{cluster}'] if x not in list(all_stuff)]\n",
    "    recommend_df = pd.concat([recommend_df, pd.DataFrame([[customer_id, recommend_stuff]], columns=['CustomerID', 'RecommendStuff'])], ignore_index=True)\n",
    "print(recommend_df)"
   ]
  },
  {
   "cell_type": "code",
   "execution_count": 36,
   "metadata": {},
   "outputs": [],
   "source": [
    "def recommend_new_user(newUserRFM):\n",
    "    input_shape = np.array(newUserRFM).ndim\n",
    "    if input_shape == 1:\n",
    "        new_data = np.array([newUserRFM])\n",
    "        cluster = str(kmeans.predict([newUserRFM])[0])\n",
    "        print(f'This New User is cluster in {kmeans.predict([newUserRFM])[0]} group and Product Recommedatoin For New User is this StockCode: \\n{Recommend_Product_Dic[cluster]}')\n",
    "    else:\n",
    "        for sub_list in newUserRFM:\n",
    "            new_data = np.array([sub_list])\n",
    "            cluster = str(kmeans.predict([sub_list])[0])\n",
    "            print(f'for {sub_list} New User is cluster in {kmeans.predict([sub_list])[0]} group and Product Recommedatoin For New User is this StockCode: \\n{Recommend_Product_Dic[cluster]}')\n",
    "            "
   ]
  },
  {
   "cell_type": "code",
   "execution_count": 37,
   "metadata": {},
   "outputs": [
    {
     "name": "stdout",
     "output_type": "stream",
     "text": [
      "This New User is cluster in 2 group and Product Recommedatoin For New User is this StockCode: \n",
      "['85123A', '85099B', '22423', '20725', '22197']\n"
     ]
    },
    {
     "name": "stderr",
     "output_type": "stream",
     "text": [
      "C:\\Users\\msavo\\anaconda3\\lib\\site-packages\\sklearn\\base.py:450: UserWarning: X does not have valid feature names, but KMeans was fitted with feature names\n",
      "  warnings.warn(\n",
      "C:\\Users\\msavo\\anaconda3\\lib\\site-packages\\sklearn\\base.py:450: UserWarning: X does not have valid feature names, but KMeans was fitted with feature names\n",
      "  warnings.warn(\n"
     ]
    }
   ],
   "source": [
    "# Input One New User\n",
    "\n",
    "newUserRFM = [4,4,4]\n",
    "recommend_new_user(newUserRFM)"
   ]
  },
  {
   "cell_type": "code",
   "execution_count": 38,
   "metadata": {},
   "outputs": [
    {
     "name": "stdout",
     "output_type": "stream",
     "text": [
      "for [1, 1, 1] New User is cluster in 9 group and Product Recommedatoin For New User is this StockCode: \n",
      "['22423', '85123A', '47566', '22178', '22699']\n",
      "for [2, 2, 2] New User is cluster in 4 group and Product Recommedatoin For New User is this StockCode: \n",
      "['85123A', '22423', '47566', '21034', '22960']\n"
     ]
    },
    {
     "name": "stderr",
     "output_type": "stream",
     "text": [
      "C:\\Users\\msavo\\anaconda3\\lib\\site-packages\\sklearn\\base.py:450: UserWarning: X does not have valid feature names, but KMeans was fitted with feature names\n",
      "  warnings.warn(\n",
      "C:\\Users\\msavo\\anaconda3\\lib\\site-packages\\sklearn\\base.py:450: UserWarning: X does not have valid feature names, but KMeans was fitted with feature names\n",
      "  warnings.warn(\n",
      "C:\\Users\\msavo\\anaconda3\\lib\\site-packages\\sklearn\\base.py:450: UserWarning: X does not have valid feature names, but KMeans was fitted with feature names\n",
      "  warnings.warn(\n",
      "C:\\Users\\msavo\\anaconda3\\lib\\site-packages\\sklearn\\base.py:450: UserWarning: X does not have valid feature names, but KMeans was fitted with feature names\n",
      "  warnings.warn(\n"
     ]
    }
   ],
   "source": [
    "# Input Multi New Users\n",
    "\n",
    "newUserRFM = [[1,1,1],[2,2,2]]\n",
    "recommend_new_user(newUserRFM)"
   ]
  }
 ],
 "metadata": {
  "colab": {
   "provenance": []
  },
  "kernelspec": {
   "display_name": "Python 3 (ipykernel)",
   "language": "python",
   "name": "python3"
  },
  "language_info": {
   "codemirror_mode": {
    "name": "ipython",
    "version": 3
   },
   "file_extension": ".py",
   "mimetype": "text/x-python",
   "name": "python",
   "nbconvert_exporter": "python",
   "pygments_lexer": "ipython3",
   "version": "3.9.13"
  }
 },
 "nbformat": 4,
 "nbformat_minor": 1
}
