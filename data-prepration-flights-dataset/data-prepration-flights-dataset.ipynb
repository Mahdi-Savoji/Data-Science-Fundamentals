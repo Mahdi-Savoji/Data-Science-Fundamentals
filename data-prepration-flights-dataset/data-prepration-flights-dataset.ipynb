{
 "cells": [
  {
   "cell_type": "markdown",
   "id": "69cf996b",
   "metadata": {
    "papermill": {
     "duration": 0.007082,
     "end_time": "2023-08-12T08:49:19.686678",
     "exception": false,
     "start_time": "2023-08-12T08:49:19.679596",
     "status": "completed"
    },
    "tags": []
   },
   "source": [
    "<h1 style=\"line-height:50px;;background:#9eb5db;border-radius:15px;height:50px;text-align:center;border:2px ridge;\n",
    "color:white;\">Data Prepration</h1>"
   ]
  },
  {
   "cell_type": "markdown",
   "id": "67c2acb1",
   "metadata": {
    "papermill": {
     "duration": 0.005896,
     "end_time": "2023-08-12T08:49:19.710810",
     "exception": false,
     "start_time": "2023-08-12T08:49:19.704914",
     "status": "completed"
    },
    "tags": []
   },
   "source": [
    "<div style=\"background:#9eb5db;border-radius:15px;\"><h2 style=\"line-height:50px;height:50px;margin-left:20px;color:white\">Requirements\n",
    "</h2></div>"
   ]
  },
  {
   "cell_type": "code",
   "execution_count": 1,
   "id": "af4bf07d",
   "metadata": {
    "execution": {
     "iopub.execute_input": "2023-08-12T08:49:19.725494Z",
     "iopub.status.busy": "2023-08-12T08:49:19.724963Z",
     "iopub.status.idle": "2023-08-12T08:49:21.770147Z",
     "shell.execute_reply": "2023-08-12T08:49:21.769053Z"
    },
    "papermill": {
     "duration": 2.056186,
     "end_time": "2023-08-12T08:49:21.773081",
     "exception": false,
     "start_time": "2023-08-12T08:49:19.716895",
     "status": "completed"
    },
    "tags": []
   },
   "outputs": [
    {
     "name": "stderr",
     "output_type": "stream",
     "text": [
      "/opt/conda/lib/python3.10/site-packages/scipy/__init__.py:146: UserWarning: A NumPy version >=1.16.5 and <1.23.0 is required for this version of SciPy (detected version 1.23.5\n",
      "  warnings.warn(f\"A NumPy version >={np_minversion} and <{np_maxversion}\"\n"
     ]
    }
   ],
   "source": [
    "import numpy as np\n",
    "import pandas as pd\n",
    "import matplotlib.pyplot as plt\n",
    "import seaborn as sns\n",
    "import pickle\n",
    "from sklearn.impute import SimpleImputer\n",
    "from sklearn.preprocessing import LabelEncoder\n",
    "from sklearn.preprocessing import OneHotEncoder\n",
    "from sklearn.compose import ColumnTransformer\n",
    "from sklearn.preprocessing import StandardScaler"
   ]
  },
  {
   "cell_type": "markdown",
   "id": "cc804a45",
   "metadata": {
    "papermill": {
     "duration": 0.006326,
     "end_time": "2023-08-12T08:49:21.786030",
     "exception": false,
     "start_time": "2023-08-12T08:49:21.779704",
     "status": "completed"
    },
    "tags": []
   },
   "source": [
    "<div style=\"background:#9eb5db;border-radius:15px;\"><h2 style=\"line-height:50px;height:150px;margin-left:20px;color:white\">Problem: Pre-processing on all columns to reach a usable format for machine learning algorithms. In this exercise, the target column is not considered and it is only an exercise for pre-processing on the dataset.\n",
    "</h2></div>"
   ]
  },
  {
   "cell_type": "code",
   "execution_count": 2,
   "id": "88f1e78c",
   "metadata": {
    "execution": {
     "iopub.execute_input": "2023-08-12T08:49:21.801049Z",
     "iopub.status.busy": "2023-08-12T08:49:21.800266Z",
     "iopub.status.idle": "2023-08-12T08:49:23.644726Z",
     "shell.execute_reply": "2023-08-12T08:49:23.643513Z"
    },
    "papermill": {
     "duration": 1.855157,
     "end_time": "2023-08-12T08:49:23.647579",
     "exception": false,
     "start_time": "2023-08-12T08:49:21.792422",
     "status": "completed"
    },
    "tags": []
   },
   "outputs": [],
   "source": [
    "df = pd.read_csv(\"flights.csv\")"
   ]
  },
  {
   "cell_type": "code",
   "execution_count": 3,
   "id": "f163ff06",
   "metadata": {
    "execution": {
     "iopub.execute_input": "2023-08-12T08:49:23.665189Z",
     "iopub.status.busy": "2023-08-12T08:49:23.664070Z",
     "iopub.status.idle": "2023-08-12T08:49:23.705647Z",
     "shell.execute_reply": "2023-08-12T08:49:23.704677Z"
    },
    "papermill": {
     "duration": 0.051795,
     "end_time": "2023-08-12T08:49:23.708001",
     "exception": false,
     "start_time": "2023-08-12T08:49:23.656206",
     "status": "completed"
    },
    "tags": []
   },
   "outputs": [
    {
     "data": {
      "text/html": [
       "<div>\n",
       "<style scoped>\n",
       "    .dataframe tbody tr th:only-of-type {\n",
       "        vertical-align: middle;\n",
       "    }\n",
       "\n",
       "    .dataframe tbody tr th {\n",
       "        vertical-align: top;\n",
       "    }\n",
       "\n",
       "    .dataframe thead th {\n",
       "        text-align: right;\n",
       "    }\n",
       "</style>\n",
       "<table border=\"1\" class=\"dataframe\">\n",
       "  <thead>\n",
       "    <tr style=\"text-align: right;\">\n",
       "      <th></th>\n",
       "      <th>id</th>\n",
       "      <th>year</th>\n",
       "      <th>month</th>\n",
       "      <th>day</th>\n",
       "      <th>dep_time</th>\n",
       "      <th>sched_dep_time</th>\n",
       "      <th>dep_delay</th>\n",
       "      <th>arr_time</th>\n",
       "      <th>sched_arr_time</th>\n",
       "      <th>arr_delay</th>\n",
       "      <th>...</th>\n",
       "      <th>flight</th>\n",
       "      <th>tailnum</th>\n",
       "      <th>origin</th>\n",
       "      <th>dest</th>\n",
       "      <th>air_time</th>\n",
       "      <th>distance</th>\n",
       "      <th>hour</th>\n",
       "      <th>minute</th>\n",
       "      <th>time_hour</th>\n",
       "      <th>name</th>\n",
       "    </tr>\n",
       "  </thead>\n",
       "  <tbody>\n",
       "    <tr>\n",
       "      <th>0</th>\n",
       "      <td>0</td>\n",
       "      <td>2013</td>\n",
       "      <td>1</td>\n",
       "      <td>1</td>\n",
       "      <td>517.0</td>\n",
       "      <td>515</td>\n",
       "      <td>2.0</td>\n",
       "      <td>830.0</td>\n",
       "      <td>819</td>\n",
       "      <td>11.0</td>\n",
       "      <td>...</td>\n",
       "      <td>1545</td>\n",
       "      <td>N14228</td>\n",
       "      <td>EWR</td>\n",
       "      <td>IAH</td>\n",
       "      <td>227.0</td>\n",
       "      <td>1400</td>\n",
       "      <td>5</td>\n",
       "      <td>15</td>\n",
       "      <td>2013-01-01 05:00:00</td>\n",
       "      <td>United Air Lines Inc.</td>\n",
       "    </tr>\n",
       "    <tr>\n",
       "      <th>1</th>\n",
       "      <td>1</td>\n",
       "      <td>2013</td>\n",
       "      <td>1</td>\n",
       "      <td>1</td>\n",
       "      <td>533.0</td>\n",
       "      <td>529</td>\n",
       "      <td>4.0</td>\n",
       "      <td>850.0</td>\n",
       "      <td>830</td>\n",
       "      <td>20.0</td>\n",
       "      <td>...</td>\n",
       "      <td>1714</td>\n",
       "      <td>N24211</td>\n",
       "      <td>LGA</td>\n",
       "      <td>IAH</td>\n",
       "      <td>227.0</td>\n",
       "      <td>1416</td>\n",
       "      <td>5</td>\n",
       "      <td>29</td>\n",
       "      <td>2013-01-01 05:00:00</td>\n",
       "      <td>United Air Lines Inc.</td>\n",
       "    </tr>\n",
       "    <tr>\n",
       "      <th>2</th>\n",
       "      <td>2</td>\n",
       "      <td>2013</td>\n",
       "      <td>1</td>\n",
       "      <td>1</td>\n",
       "      <td>542.0</td>\n",
       "      <td>540</td>\n",
       "      <td>2.0</td>\n",
       "      <td>923.0</td>\n",
       "      <td>850</td>\n",
       "      <td>33.0</td>\n",
       "      <td>...</td>\n",
       "      <td>1141</td>\n",
       "      <td>N619AA</td>\n",
       "      <td>JFK</td>\n",
       "      <td>MIA</td>\n",
       "      <td>160.0</td>\n",
       "      <td>1089</td>\n",
       "      <td>5</td>\n",
       "      <td>40</td>\n",
       "      <td>2013-01-01 05:00:00</td>\n",
       "      <td>American Airlines Inc.</td>\n",
       "    </tr>\n",
       "    <tr>\n",
       "      <th>3</th>\n",
       "      <td>3</td>\n",
       "      <td>2013</td>\n",
       "      <td>1</td>\n",
       "      <td>1</td>\n",
       "      <td>544.0</td>\n",
       "      <td>545</td>\n",
       "      <td>-1.0</td>\n",
       "      <td>1004.0</td>\n",
       "      <td>1022</td>\n",
       "      <td>-18.0</td>\n",
       "      <td>...</td>\n",
       "      <td>725</td>\n",
       "      <td>N804JB</td>\n",
       "      <td>JFK</td>\n",
       "      <td>BQN</td>\n",
       "      <td>183.0</td>\n",
       "      <td>1576</td>\n",
       "      <td>5</td>\n",
       "      <td>45</td>\n",
       "      <td>2013-01-01 05:00:00</td>\n",
       "      <td>JetBlue Airways</td>\n",
       "    </tr>\n",
       "    <tr>\n",
       "      <th>4</th>\n",
       "      <td>4</td>\n",
       "      <td>2013</td>\n",
       "      <td>1</td>\n",
       "      <td>1</td>\n",
       "      <td>554.0</td>\n",
       "      <td>600</td>\n",
       "      <td>-6.0</td>\n",
       "      <td>812.0</td>\n",
       "      <td>837</td>\n",
       "      <td>-25.0</td>\n",
       "      <td>...</td>\n",
       "      <td>461</td>\n",
       "      <td>N668DN</td>\n",
       "      <td>LGA</td>\n",
       "      <td>ATL</td>\n",
       "      <td>116.0</td>\n",
       "      <td>762</td>\n",
       "      <td>6</td>\n",
       "      <td>0</td>\n",
       "      <td>2013-01-01 06:00:00</td>\n",
       "      <td>Delta Air Lines Inc.</td>\n",
       "    </tr>\n",
       "  </tbody>\n",
       "</table>\n",
       "<p>5 rows × 21 columns</p>\n",
       "</div>"
      ],
      "text/plain": [
       "   id  year  month  day  dep_time  sched_dep_time  dep_delay  arr_time  \\\n",
       "0   0  2013      1    1     517.0             515        2.0     830.0   \n",
       "1   1  2013      1    1     533.0             529        4.0     850.0   \n",
       "2   2  2013      1    1     542.0             540        2.0     923.0   \n",
       "3   3  2013      1    1     544.0             545       -1.0    1004.0   \n",
       "4   4  2013      1    1     554.0             600       -6.0     812.0   \n",
       "\n",
       "   sched_arr_time  arr_delay  ... flight  tailnum origin dest air_time  \\\n",
       "0             819       11.0  ...   1545   N14228    EWR  IAH    227.0   \n",
       "1             830       20.0  ...   1714   N24211    LGA  IAH    227.0   \n",
       "2             850       33.0  ...   1141   N619AA    JFK  MIA    160.0   \n",
       "3            1022      -18.0  ...    725   N804JB    JFK  BQN    183.0   \n",
       "4             837      -25.0  ...    461   N668DN    LGA  ATL    116.0   \n",
       "\n",
       "   distance  hour  minute            time_hour                    name  \n",
       "0      1400     5      15  2013-01-01 05:00:00   United Air Lines Inc.  \n",
       "1      1416     5      29  2013-01-01 05:00:00   United Air Lines Inc.  \n",
       "2      1089     5      40  2013-01-01 05:00:00  American Airlines Inc.  \n",
       "3      1576     5      45  2013-01-01 05:00:00         JetBlue Airways  \n",
       "4       762     6       0  2013-01-01 06:00:00    Delta Air Lines Inc.  \n",
       "\n",
       "[5 rows x 21 columns]"
      ]
     },
     "execution_count": 3,
     "metadata": {},
     "output_type": "execute_result"
    }
   ],
   "source": [
    "df.head()"
   ]
  },
  {
   "cell_type": "code",
   "execution_count": 4,
   "id": "a79af409",
   "metadata": {
    "execution": {
     "iopub.execute_input": "2023-08-12T08:49:23.723372Z",
     "iopub.status.busy": "2023-08-12T08:49:23.722929Z",
     "iopub.status.idle": "2023-08-12T08:49:24.383511Z",
     "shell.execute_reply": "2023-08-12T08:49:24.382236Z"
    },
    "papermill": {
     "duration": 0.671802,
     "end_time": "2023-08-12T08:49:24.386616",
     "exception": false,
     "start_time": "2023-08-12T08:49:23.714814",
     "status": "completed"
    },
    "tags": []
   },
   "outputs": [
    {
     "name": "stdout",
     "output_type": "stream",
     "text": [
      "<class 'pandas.core.frame.DataFrame'>\n",
      "RangeIndex: 336776 entries, 0 to 336775\n",
      "Data columns (total 21 columns):\n",
      " #   Column          Non-Null Count   Dtype  \n",
      "---  ------          --------------   -----  \n",
      " 0   id              336776 non-null  int64  \n",
      " 1   year            336776 non-null  int64  \n",
      " 2   month           336776 non-null  int64  \n",
      " 3   day             336776 non-null  int64  \n",
      " 4   dep_time        328521 non-null  float64\n",
      " 5   sched_dep_time  336776 non-null  int64  \n",
      " 6   dep_delay       328521 non-null  float64\n",
      " 7   arr_time        328063 non-null  float64\n",
      " 8   sched_arr_time  336776 non-null  int64  \n",
      " 9   arr_delay       327346 non-null  float64\n",
      " 10  carrier         336776 non-null  object \n",
      " 11  flight          336776 non-null  int64  \n",
      " 12  tailnum         334264 non-null  object \n",
      " 13  origin          336776 non-null  object \n",
      " 14  dest            336776 non-null  object \n",
      " 15  air_time        327346 non-null  float64\n",
      " 16  distance        336776 non-null  int64  \n",
      " 17  hour            336776 non-null  int64  \n",
      " 18  minute          336776 non-null  int64  \n",
      " 19  time_hour       336776 non-null  object \n",
      " 20  name            336776 non-null  object \n",
      "dtypes: float64(5), int64(10), object(6)\n",
      "memory usage: 54.0+ MB\n"
     ]
    }
   ],
   "source": [
    "df.info()"
   ]
  },
  {
   "cell_type": "code",
   "execution_count": 5,
   "id": "ee838c08",
   "metadata": {
    "execution": {
     "iopub.execute_input": "2023-08-12T08:49:24.402966Z",
     "iopub.status.busy": "2023-08-12T08:49:24.402527Z",
     "iopub.status.idle": "2023-08-12T08:49:24.411729Z",
     "shell.execute_reply": "2023-08-12T08:49:24.410145Z"
    },
    "papermill": {
     "duration": 0.020758,
     "end_time": "2023-08-12T08:49:24.414759",
     "exception": false,
     "start_time": "2023-08-12T08:49:24.394001",
     "status": "completed"
    },
    "tags": []
   },
   "outputs": [
    {
     "data": {
      "text/plain": [
       "Index(['id', 'year', 'month', 'day', 'dep_time', 'sched_dep_time', 'dep_delay',\n",
       "       'arr_time', 'sched_arr_time', 'arr_delay', 'carrier', 'flight',\n",
       "       'tailnum', 'origin', 'dest', 'air_time', 'distance', 'hour', 'minute',\n",
       "       'time_hour', 'name'],\n",
       "      dtype='object')"
      ]
     },
     "execution_count": 5,
     "metadata": {},
     "output_type": "execute_result"
    }
   ],
   "source": [
    "# Delete columns that have no data \n",
    "df.columns"
   ]
  },
  {
   "cell_type": "code",
   "execution_count": 6,
   "id": "107e13a2",
   "metadata": {
    "execution": {
     "iopub.execute_input": "2023-08-12T08:49:24.431028Z",
     "iopub.status.busy": "2023-08-12T08:49:24.430556Z",
     "iopub.status.idle": "2023-08-12T08:49:24.453672Z",
     "shell.execute_reply": "2023-08-12T08:49:24.452629Z"
    },
    "papermill": {
     "duration": 0.034375,
     "end_time": "2023-08-12T08:49:24.456343",
     "exception": false,
     "start_time": "2023-08-12T08:49:24.421968",
     "status": "completed"
    },
    "tags": []
   },
   "outputs": [],
   "source": [
    "# id, carrier, tailnum is not significant data brcause they're just have numerci label or label.\n",
    "# time_hour consists of columns dep_time and month and day but time_hour in utc format and the other in local.\n",
    "\n",
    "trim_df = df.drop(['id', 'year', 'carrier', 'tailnum', 'time_hour'], axis=1)"
   ]
  },
  {
   "cell_type": "code",
   "execution_count": 7,
   "id": "5e6dfa08",
   "metadata": {
    "execution": {
     "iopub.execute_input": "2023-08-12T08:49:24.474287Z",
     "iopub.status.busy": "2023-08-12T08:49:24.473099Z",
     "iopub.status.idle": "2023-08-12T08:49:24.505979Z",
     "shell.execute_reply": "2023-08-12T08:49:24.504843Z"
    },
    "papermill": {
     "duration": 0.043785,
     "end_time": "2023-08-12T08:49:24.508566",
     "exception": false,
     "start_time": "2023-08-12T08:49:24.464781",
     "status": "completed"
    },
    "tags": []
   },
   "outputs": [
    {
     "data": {
      "text/html": [
       "<div>\n",
       "<style scoped>\n",
       "    .dataframe tbody tr th:only-of-type {\n",
       "        vertical-align: middle;\n",
       "    }\n",
       "\n",
       "    .dataframe tbody tr th {\n",
       "        vertical-align: top;\n",
       "    }\n",
       "\n",
       "    .dataframe thead th {\n",
       "        text-align: right;\n",
       "    }\n",
       "</style>\n",
       "<table border=\"1\" class=\"dataframe\">\n",
       "  <thead>\n",
       "    <tr style=\"text-align: right;\">\n",
       "      <th></th>\n",
       "      <th>month</th>\n",
       "      <th>day</th>\n",
       "      <th>dep_time</th>\n",
       "      <th>sched_dep_time</th>\n",
       "      <th>dep_delay</th>\n",
       "      <th>arr_time</th>\n",
       "      <th>sched_arr_time</th>\n",
       "      <th>arr_delay</th>\n",
       "      <th>flight</th>\n",
       "      <th>origin</th>\n",
       "      <th>dest</th>\n",
       "      <th>air_time</th>\n",
       "      <th>distance</th>\n",
       "      <th>hour</th>\n",
       "      <th>minute</th>\n",
       "      <th>name</th>\n",
       "    </tr>\n",
       "  </thead>\n",
       "  <tbody>\n",
       "    <tr>\n",
       "      <th>0</th>\n",
       "      <td>1</td>\n",
       "      <td>1</td>\n",
       "      <td>517.0</td>\n",
       "      <td>515</td>\n",
       "      <td>2.0</td>\n",
       "      <td>830.0</td>\n",
       "      <td>819</td>\n",
       "      <td>11.0</td>\n",
       "      <td>1545</td>\n",
       "      <td>EWR</td>\n",
       "      <td>IAH</td>\n",
       "      <td>227.0</td>\n",
       "      <td>1400</td>\n",
       "      <td>5</td>\n",
       "      <td>15</td>\n",
       "      <td>United Air Lines Inc.</td>\n",
       "    </tr>\n",
       "    <tr>\n",
       "      <th>1</th>\n",
       "      <td>1</td>\n",
       "      <td>1</td>\n",
       "      <td>533.0</td>\n",
       "      <td>529</td>\n",
       "      <td>4.0</td>\n",
       "      <td>850.0</td>\n",
       "      <td>830</td>\n",
       "      <td>20.0</td>\n",
       "      <td>1714</td>\n",
       "      <td>LGA</td>\n",
       "      <td>IAH</td>\n",
       "      <td>227.0</td>\n",
       "      <td>1416</td>\n",
       "      <td>5</td>\n",
       "      <td>29</td>\n",
       "      <td>United Air Lines Inc.</td>\n",
       "    </tr>\n",
       "    <tr>\n",
       "      <th>2</th>\n",
       "      <td>1</td>\n",
       "      <td>1</td>\n",
       "      <td>542.0</td>\n",
       "      <td>540</td>\n",
       "      <td>2.0</td>\n",
       "      <td>923.0</td>\n",
       "      <td>850</td>\n",
       "      <td>33.0</td>\n",
       "      <td>1141</td>\n",
       "      <td>JFK</td>\n",
       "      <td>MIA</td>\n",
       "      <td>160.0</td>\n",
       "      <td>1089</td>\n",
       "      <td>5</td>\n",
       "      <td>40</td>\n",
       "      <td>American Airlines Inc.</td>\n",
       "    </tr>\n",
       "    <tr>\n",
       "      <th>3</th>\n",
       "      <td>1</td>\n",
       "      <td>1</td>\n",
       "      <td>544.0</td>\n",
       "      <td>545</td>\n",
       "      <td>-1.0</td>\n",
       "      <td>1004.0</td>\n",
       "      <td>1022</td>\n",
       "      <td>-18.0</td>\n",
       "      <td>725</td>\n",
       "      <td>JFK</td>\n",
       "      <td>BQN</td>\n",
       "      <td>183.0</td>\n",
       "      <td>1576</td>\n",
       "      <td>5</td>\n",
       "      <td>45</td>\n",
       "      <td>JetBlue Airways</td>\n",
       "    </tr>\n",
       "    <tr>\n",
       "      <th>4</th>\n",
       "      <td>1</td>\n",
       "      <td>1</td>\n",
       "      <td>554.0</td>\n",
       "      <td>600</td>\n",
       "      <td>-6.0</td>\n",
       "      <td>812.0</td>\n",
       "      <td>837</td>\n",
       "      <td>-25.0</td>\n",
       "      <td>461</td>\n",
       "      <td>LGA</td>\n",
       "      <td>ATL</td>\n",
       "      <td>116.0</td>\n",
       "      <td>762</td>\n",
       "      <td>6</td>\n",
       "      <td>0</td>\n",
       "      <td>Delta Air Lines Inc.</td>\n",
       "    </tr>\n",
       "    <tr>\n",
       "      <th>...</th>\n",
       "      <td>...</td>\n",
       "      <td>...</td>\n",
       "      <td>...</td>\n",
       "      <td>...</td>\n",
       "      <td>...</td>\n",
       "      <td>...</td>\n",
       "      <td>...</td>\n",
       "      <td>...</td>\n",
       "      <td>...</td>\n",
       "      <td>...</td>\n",
       "      <td>...</td>\n",
       "      <td>...</td>\n",
       "      <td>...</td>\n",
       "      <td>...</td>\n",
       "      <td>...</td>\n",
       "      <td>...</td>\n",
       "    </tr>\n",
       "    <tr>\n",
       "      <th>336771</th>\n",
       "      <td>9</td>\n",
       "      <td>30</td>\n",
       "      <td>NaN</td>\n",
       "      <td>1455</td>\n",
       "      <td>NaN</td>\n",
       "      <td>NaN</td>\n",
       "      <td>1634</td>\n",
       "      <td>NaN</td>\n",
       "      <td>3393</td>\n",
       "      <td>JFK</td>\n",
       "      <td>DCA</td>\n",
       "      <td>NaN</td>\n",
       "      <td>213</td>\n",
       "      <td>14</td>\n",
       "      <td>55</td>\n",
       "      <td>Endeavor Air Inc.</td>\n",
       "    </tr>\n",
       "    <tr>\n",
       "      <th>336772</th>\n",
       "      <td>9</td>\n",
       "      <td>30</td>\n",
       "      <td>NaN</td>\n",
       "      <td>2200</td>\n",
       "      <td>NaN</td>\n",
       "      <td>NaN</td>\n",
       "      <td>2312</td>\n",
       "      <td>NaN</td>\n",
       "      <td>3525</td>\n",
       "      <td>LGA</td>\n",
       "      <td>SYR</td>\n",
       "      <td>NaN</td>\n",
       "      <td>198</td>\n",
       "      <td>22</td>\n",
       "      <td>0</td>\n",
       "      <td>Endeavor Air Inc.</td>\n",
       "    </tr>\n",
       "    <tr>\n",
       "      <th>336773</th>\n",
       "      <td>9</td>\n",
       "      <td>30</td>\n",
       "      <td>NaN</td>\n",
       "      <td>1210</td>\n",
       "      <td>NaN</td>\n",
       "      <td>NaN</td>\n",
       "      <td>1330</td>\n",
       "      <td>NaN</td>\n",
       "      <td>3461</td>\n",
       "      <td>LGA</td>\n",
       "      <td>BNA</td>\n",
       "      <td>NaN</td>\n",
       "      <td>764</td>\n",
       "      <td>12</td>\n",
       "      <td>10</td>\n",
       "      <td>Envoy Air</td>\n",
       "    </tr>\n",
       "    <tr>\n",
       "      <th>336774</th>\n",
       "      <td>9</td>\n",
       "      <td>30</td>\n",
       "      <td>NaN</td>\n",
       "      <td>1159</td>\n",
       "      <td>NaN</td>\n",
       "      <td>NaN</td>\n",
       "      <td>1344</td>\n",
       "      <td>NaN</td>\n",
       "      <td>3572</td>\n",
       "      <td>LGA</td>\n",
       "      <td>CLE</td>\n",
       "      <td>NaN</td>\n",
       "      <td>419</td>\n",
       "      <td>11</td>\n",
       "      <td>59</td>\n",
       "      <td>Envoy Air</td>\n",
       "    </tr>\n",
       "    <tr>\n",
       "      <th>336775</th>\n",
       "      <td>9</td>\n",
       "      <td>30</td>\n",
       "      <td>NaN</td>\n",
       "      <td>840</td>\n",
       "      <td>NaN</td>\n",
       "      <td>NaN</td>\n",
       "      <td>1020</td>\n",
       "      <td>NaN</td>\n",
       "      <td>3531</td>\n",
       "      <td>LGA</td>\n",
       "      <td>RDU</td>\n",
       "      <td>NaN</td>\n",
       "      <td>431</td>\n",
       "      <td>8</td>\n",
       "      <td>40</td>\n",
       "      <td>Envoy Air</td>\n",
       "    </tr>\n",
       "  </tbody>\n",
       "</table>\n",
       "<p>336776 rows × 16 columns</p>\n",
       "</div>"
      ],
      "text/plain": [
       "        month  day  dep_time  sched_dep_time  dep_delay  arr_time  \\\n",
       "0           1    1     517.0             515        2.0     830.0   \n",
       "1           1    1     533.0             529        4.0     850.0   \n",
       "2           1    1     542.0             540        2.0     923.0   \n",
       "3           1    1     544.0             545       -1.0    1004.0   \n",
       "4           1    1     554.0             600       -6.0     812.0   \n",
       "...       ...  ...       ...             ...        ...       ...   \n",
       "336771      9   30       NaN            1455        NaN       NaN   \n",
       "336772      9   30       NaN            2200        NaN       NaN   \n",
       "336773      9   30       NaN            1210        NaN       NaN   \n",
       "336774      9   30       NaN            1159        NaN       NaN   \n",
       "336775      9   30       NaN             840        NaN       NaN   \n",
       "\n",
       "        sched_arr_time  arr_delay  flight origin dest  air_time  distance  \\\n",
       "0                  819       11.0    1545    EWR  IAH     227.0      1400   \n",
       "1                  830       20.0    1714    LGA  IAH     227.0      1416   \n",
       "2                  850       33.0    1141    JFK  MIA     160.0      1089   \n",
       "3                 1022      -18.0     725    JFK  BQN     183.0      1576   \n",
       "4                  837      -25.0     461    LGA  ATL     116.0       762   \n",
       "...                ...        ...     ...    ...  ...       ...       ...   \n",
       "336771            1634        NaN    3393    JFK  DCA       NaN       213   \n",
       "336772            2312        NaN    3525    LGA  SYR       NaN       198   \n",
       "336773            1330        NaN    3461    LGA  BNA       NaN       764   \n",
       "336774            1344        NaN    3572    LGA  CLE       NaN       419   \n",
       "336775            1020        NaN    3531    LGA  RDU       NaN       431   \n",
       "\n",
       "        hour  minute                    name  \n",
       "0          5      15   United Air Lines Inc.  \n",
       "1          5      29   United Air Lines Inc.  \n",
       "2          5      40  American Airlines Inc.  \n",
       "3          5      45         JetBlue Airways  \n",
       "4          6       0    Delta Air Lines Inc.  \n",
       "...      ...     ...                     ...  \n",
       "336771    14      55       Endeavor Air Inc.  \n",
       "336772    22       0       Endeavor Air Inc.  \n",
       "336773    12      10               Envoy Air  \n",
       "336774    11      59               Envoy Air  \n",
       "336775     8      40               Envoy Air  \n",
       "\n",
       "[336776 rows x 16 columns]"
      ]
     },
     "execution_count": 7,
     "metadata": {},
     "output_type": "execute_result"
    }
   ],
   "source": [
    "trim_df"
   ]
  },
  {
   "cell_type": "code",
   "execution_count": 8,
   "id": "c22d95b6",
   "metadata": {
    "execution": {
     "iopub.execute_input": "2023-08-12T08:49:24.525902Z",
     "iopub.status.busy": "2023-08-12T08:49:24.525481Z",
     "iopub.status.idle": "2023-08-12T08:49:24.856349Z",
     "shell.execute_reply": "2023-08-12T08:49:24.855077Z"
    },
    "papermill": {
     "duration": 0.342795,
     "end_time": "2023-08-12T08:49:24.859043",
     "exception": false,
     "start_time": "2023-08-12T08:49:24.516248",
     "status": "completed"
    },
    "tags": []
   },
   "outputs": [
    {
     "data": {
      "text/plain": [
       "month                0\n",
       "day                  0\n",
       "dep_time          8255\n",
       "sched_dep_time       0\n",
       "dep_delay         8255\n",
       "arr_time          8713\n",
       "sched_arr_time       0\n",
       "arr_delay         9430\n",
       "flight               0\n",
       "origin               0\n",
       "dest                 0\n",
       "air_time          9430\n",
       "distance             0\n",
       "hour                 0\n",
       "minute               0\n",
       "name                 0\n",
       "dtype: int64"
      ]
     },
     "execution_count": 8,
     "metadata": {},
     "output_type": "execute_result"
    }
   ],
   "source": [
    "trim_df.isnull().sum()"
   ]
  },
  {
   "cell_type": "code",
   "execution_count": 9,
   "id": "34f8a8c8",
   "metadata": {
    "execution": {
     "iopub.execute_input": "2023-08-12T08:49:24.877359Z",
     "iopub.status.busy": "2023-08-12T08:49:24.876943Z",
     "iopub.status.idle": "2023-08-12T08:49:25.209616Z",
     "shell.execute_reply": "2023-08-12T08:49:25.207772Z"
    },
    "papermill": {
     "duration": 0.345836,
     "end_time": "2023-08-12T08:49:25.212832",
     "exception": false,
     "start_time": "2023-08-12T08:49:24.866996",
     "status": "completed"
    },
    "tags": []
   },
   "outputs": [
    {
     "data": {
      "text/plain": [
       "month                0\n",
       "day                  0\n",
       "dep_time          8255\n",
       "sched_dep_time       0\n",
       "dep_delay         8255\n",
       "arr_time          8713\n",
       "sched_arr_time       0\n",
       "arr_delay         9430\n",
       "flight               0\n",
       "origin               0\n",
       "dest                 0\n",
       "air_time          9430\n",
       "distance             0\n",
       "hour                 0\n",
       "minute               0\n",
       "name                 0\n",
       "dtype: int64"
      ]
     },
     "execution_count": 9,
     "metadata": {},
     "output_type": "execute_result"
    }
   ],
   "source": [
    "trim_df.isna().sum()"
   ]
  },
  {
   "cell_type": "code",
   "execution_count": 10,
   "id": "73981624",
   "metadata": {
    "execution": {
     "iopub.execute_input": "2023-08-12T08:49:25.230521Z",
     "iopub.status.busy": "2023-08-12T08:49:25.230112Z",
     "iopub.status.idle": "2023-08-12T08:49:25.262117Z",
     "shell.execute_reply": "2023-08-12T08:49:25.260565Z"
    },
    "papermill": {
     "duration": 0.043805,
     "end_time": "2023-08-12T08:49:25.264643",
     "exception": false,
     "start_time": "2023-08-12T08:49:25.220838",
     "status": "completed"
    },
    "tags": []
   },
   "outputs": [
    {
     "name": "stdout",
     "output_type": "stream",
     "text": [
      "Index(['month', 'day', 'dep_time', 'sched_dep_time', 'dep_delay', 'arr_time',\n",
      "       'sched_arr_time', 'arr_delay', 'flight', 'air_time', 'distance', 'hour',\n",
      "       'minute'],\n",
      "      dtype='object')\n",
      "Index(['origin', 'dest', 'name'], dtype='object')\n"
     ]
    }
   ],
   "source": [
    "# Seperate Numeric Columns and Non-Numerical Columns\n",
    "\n",
    "X = trim_df.drop(['origin', 'dest', 'name'], axis = 1)\n",
    "Y = trim_df.drop(X.columns, axis=1)\n",
    "print(X.columns)\n",
    "print(Y.columns)"
   ]
  },
  {
   "cell_type": "code",
   "execution_count": 11,
   "id": "1b908cd6",
   "metadata": {
    "execution": {
     "iopub.execute_input": "2023-08-12T08:49:25.282760Z",
     "iopub.status.busy": "2023-08-12T08:49:25.282303Z",
     "iopub.status.idle": "2023-08-12T08:49:25.419280Z",
     "shell.execute_reply": "2023-08-12T08:49:25.417977Z"
    },
    "papermill": {
     "duration": 0.149259,
     "end_time": "2023-08-12T08:49:25.422095",
     "exception": false,
     "start_time": "2023-08-12T08:49:25.272836",
     "status": "completed"
    },
    "tags": []
   },
   "outputs": [],
   "source": [
    "# Replace Nearest Number For Nan or Null in Numeric Data\n",
    "\n",
    "si = SimpleImputer(missing_values = np.nan, strategy = 'mean')\n",
    "si.fit(X)\n",
    "X_encoded = si.transform(X)"
   ]
  },
  {
   "cell_type": "code",
   "execution_count": 12,
   "id": "185fa19b",
   "metadata": {
    "execution": {
     "iopub.execute_input": "2023-08-12T08:49:25.440937Z",
     "iopub.status.busy": "2023-08-12T08:49:25.440531Z",
     "iopub.status.idle": "2023-08-12T08:49:26.394923Z",
     "shell.execute_reply": "2023-08-12T08:49:26.393505Z"
    },
    "papermill": {
     "duration": 0.967357,
     "end_time": "2023-08-12T08:49:26.397616",
     "exception": false,
     "start_time": "2023-08-12T08:49:25.430259",
     "status": "completed"
    },
    "tags": []
   },
   "outputs": [
    {
     "name": "stdout",
     "output_type": "stream",
     "text": [
      "[[1. 0. 0. ... 0. 1. 0.]\n",
      " [0. 0. 1. ... 0. 1. 0.]\n",
      " [0. 1. 0. ... 0. 0. 0.]\n",
      " ...\n",
      " [0. 0. 1. ... 0. 0. 0.]\n",
      " [0. 0. 1. ... 0. 0. 0.]\n",
      " [0. 0. 1. ... 0. 0. 0.]]\n"
     ]
    }
   ],
   "source": [
    "# OneHotEncoding on non-numeric Cols\n",
    "\n",
    "ohe = OneHotEncoder()\n",
    "Y_encoded = ohe.fit_transform(Y)\n",
    "Y_encoded = Y_encoded.toarray()\n",
    "print(Y_encoded)"
   ]
  },
  {
   "cell_type": "code",
   "execution_count": 13,
   "id": "0c83f05f",
   "metadata": {
    "execution": {
     "iopub.execute_input": "2023-08-12T08:49:26.416317Z",
     "iopub.status.busy": "2023-08-12T08:49:26.415880Z",
     "iopub.status.idle": "2023-08-12T08:49:26.489206Z",
     "shell.execute_reply": "2023-08-12T08:49:26.488057Z"
    },
    "papermill": {
     "duration": 0.085921,
     "end_time": "2023-08-12T08:49:26.492034",
     "exception": false,
     "start_time": "2023-08-12T08:49:26.406113",
     "status": "completed"
    },
    "tags": []
   },
   "outputs": [],
   "source": [
    "# StandardScalor on Numerci Data\n",
    "\n",
    "ss = StandardScaler()\n",
    "X_encoded = ss.fit_transform(X_encoded)"
   ]
  },
  {
   "cell_type": "code",
   "execution_count": 14,
   "id": "e23f7423",
   "metadata": {
    "execution": {
     "iopub.execute_input": "2023-08-12T08:49:26.510660Z",
     "iopub.status.busy": "2023-08-12T08:49:26.510192Z",
     "iopub.status.idle": "2023-08-12T08:49:26.515767Z",
     "shell.execute_reply": "2023-08-12T08:49:26.514476Z"
    },
    "papermill": {
     "duration": 0.018128,
     "end_time": "2023-08-12T08:49:26.518254",
     "exception": false,
     "start_time": "2023-08-12T08:49:26.500126",
     "status": "completed"
    },
    "tags": []
   },
   "outputs": [],
   "source": [
    "## this cell run in scikit-learn == 1.2.2 \n",
    "\n",
    "# # create a new DataFrame with the concatenated data\n",
    "# new_df = np.concatenate([X_encoded, Y_encoded], axis=1)\n",
    "\n",
    "# cols = list(X.columns) + list(ohe.get_feature_names(Y.columns))\n",
    "# df_concatenated = pd.DataFrame(new_df, columns=cols)\n",
    "\n",
    "# # print the concatenated DataFrame\n",
    "# print(df_concatenated.head())"
   ]
  }
 ],
 "metadata": {
  "kernelspec": {
   "display_name": "Python 3",
   "language": "python",
   "name": "python3"
  },
  "language_info": {
   "codemirror_mode": {
    "name": "ipython",
    "version": 3
   },
   "file_extension": ".py",
   "mimetype": "text/x-python",
   "name": "python",
   "nbconvert_exporter": "python",
   "pygments_lexer": "ipython3",
   "version": "3.10.12"
  },
  "papermill": {
   "default_parameters": {},
   "duration": 19.859038,
   "end_time": "2023-08-12T08:49:27.650004",
   "environment_variables": {},
   "exception": null,
   "input_path": "__notebook__.ipynb",
   "output_path": "__notebook__.ipynb",
   "parameters": {},
   "start_time": "2023-08-12T08:49:07.790966",
   "version": "2.4.0"
  }
 },
 "nbformat": 4,
 "nbformat_minor": 5
}
