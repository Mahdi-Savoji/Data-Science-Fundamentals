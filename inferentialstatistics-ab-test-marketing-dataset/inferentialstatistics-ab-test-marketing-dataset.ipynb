{
 "cells": [
  {
   "cell_type": "markdown",
   "id": "621ce8ef",
   "metadata": {
    "execution": {
     "iopub.execute_input": "2023-08-12T07:53:14.308961Z",
     "iopub.status.busy": "2023-08-12T07:53:14.308498Z",
     "iopub.status.idle": "2023-08-12T07:53:14.317304Z",
     "shell.execute_reply": "2023-08-12T07:53:14.315447Z",
     "shell.execute_reply.started": "2023-08-12T07:53:14.308925Z"
    },
    "papermill": {
     "duration": 0.007299,
     "end_time": "2023-08-12T07:55:00.027028",
     "exception": false,
     "start_time": "2023-08-12T07:55:00.019729",
     "status": "completed"
    },
    "tags": []
   },
   "source": [
    "<h1 style=\"line-height:50px;;background:#9eb5db;border-radius:15px;height:50px;text-align:center;border:2px ridge;\n",
    ";\">Statistics</h1>"
   ]
  },
  {
   "cell_type": "markdown",
   "id": "99fdb311",
   "metadata": {
    "papermill": {
     "duration": 0.004816,
     "end_time": "2023-08-12T07:55:00.047735",
     "exception": false,
     "start_time": "2023-08-12T07:55:00.042919",
     "status": "completed"
    },
    "tags": []
   },
   "source": [
    "<div style=\"background:#9eb5db;border-radius:15px;\"><h2 style=\"line-height:50px;height:50px;margin-left:20px\">Requirements\n",
    "</h2></div>"
   ]
  },
  {
   "cell_type": "code",
   "execution_count": 1,
   "id": "09fd117c",
   "metadata": {
    "execution": {
     "iopub.execute_input": "2023-08-12T07:55:00.061815Z",
     "iopub.status.busy": "2023-08-12T07:55:00.060718Z",
     "iopub.status.idle": "2023-08-12T07:55:00.075829Z",
     "shell.execute_reply": "2023-08-12T07:55:00.074762Z"
    },
    "papermill": {
     "duration": 0.025422,
     "end_time": "2023-08-12T07:55:00.078391",
     "exception": false,
     "start_time": "2023-08-12T07:55:00.052969",
     "status": "completed"
    },
    "tags": []
   },
   "outputs": [],
   "source": [
    "import numpy as np\n",
    "import pandas as pd\n",
    "import matplotlib.pyplot as plt"
   ]
  },
  {
   "cell_type": "markdown",
   "id": "d99cdd2f",
   "metadata": {
    "papermill": {
     "duration": 0.004145,
     "end_time": "2023-08-12T07:55:00.087173",
     "exception": false,
     "start_time": "2023-08-12T07:55:00.083028",
     "status": "completed"
    },
    "tags": []
   },
   "source": [
    "<div style=\"background:#9eb5db;border-radius:15px;\"><h2 style=\"line-height:50px;height:50px;margin-left:20px\">Problem\n",
    "</h2></div>"
   ]
  },
  {
   "cell_type": "code",
   "execution_count": 2,
   "id": "cb717dfb",
   "metadata": {
    "execution": {
     "iopub.execute_input": "2023-08-12T07:55:00.100127Z",
     "iopub.status.busy": "2023-08-12T07:55:00.099320Z",
     "iopub.status.idle": "2023-08-12T07:55:01.029927Z",
     "shell.execute_reply": "2023-08-12T07:55:01.028066Z"
    },
    "papermill": {
     "duration": 0.940674,
     "end_time": "2023-08-12T07:55:01.033246",
     "exception": false,
     "start_time": "2023-08-12T07:55:00.092572",
     "status": "completed"
    },
    "tags": []
   },
   "outputs": [],
   "source": [
    "# Read Dataset\n",
    "\n",
    "df = pd.read_csv(\"marketing_AB.csv\")"
   ]
  },
  {
   "cell_type": "code",
   "execution_count": 3,
   "id": "81512499",
   "metadata": {
    "execution": {
     "iopub.execute_input": "2023-08-12T07:55:01.044411Z",
     "iopub.status.busy": "2023-08-12T07:55:01.044023Z",
     "iopub.status.idle": "2023-08-12T07:55:01.086346Z",
     "shell.execute_reply": "2023-08-12T07:55:01.084618Z"
    },
    "papermill": {
     "duration": 0.051717,
     "end_time": "2023-08-12T07:55:01.089715",
     "exception": false,
     "start_time": "2023-08-12T07:55:01.037998",
     "status": "completed"
    },
    "tags": []
   },
   "outputs": [
    {
     "name": "stdout",
     "output_type": "stream",
     "text": [
      "We don't have repetitious data and doesn't need data cleaning.\n"
     ]
    }
   ],
   "source": [
    "# Checking Repetitious Data\n",
    "\n",
    "if len(df['user id'].unique()) == len(df.index):\n",
    "    print(\"We don't have repetitious data and doesn't need data cleaning.\")\n",
    "else:\n",
    "    print(\"We have repetitious data and need data cleaning.\")"
   ]
  },
  {
   "cell_type": "code",
   "execution_count": 4,
   "id": "82968da4",
   "metadata": {
    "execution": {
     "iopub.execute_input": "2023-08-12T07:55:01.101870Z",
     "iopub.status.busy": "2023-08-12T07:55:01.101467Z",
     "iopub.status.idle": "2023-08-12T07:55:01.224793Z",
     "shell.execute_reply": "2023-08-12T07:55:01.222646Z"
    },
    "papermill": {
     "duration": 0.132832,
     "end_time": "2023-08-12T07:55:01.227742",
     "exception": false,
     "start_time": "2023-08-12T07:55:01.094910",
     "status": "completed"
    },
    "tags": []
   },
   "outputs": [],
   "source": [
    "# Split Data\n",
    "\n",
    "df_ad = df.query(\"`test group` == 'ad'\")\n",
    "df_psa = df.query(\"`test group` == 'psa'\")"
   ]
  },
  {
   "cell_type": "code",
   "execution_count": 5,
   "id": "85fe02d2",
   "metadata": {
    "execution": {
     "iopub.execute_input": "2023-08-12T07:55:01.239710Z",
     "iopub.status.busy": "2023-08-12T07:55:01.239222Z",
     "iopub.status.idle": "2023-08-12T07:55:01.250902Z",
     "shell.execute_reply": "2023-08-12T07:55:01.249187Z"
    },
    "papermill": {
     "duration": 0.021527,
     "end_time": "2023-08-12T07:55:01.254369",
     "exception": false,
     "start_time": "2023-08-12T07:55:01.232842",
     "status": "completed"
    },
    "tags": []
   },
   "outputs": [
    {
     "name": "stdout",
     "output_type": "stream",
     "text": [
      "mean of converted in df is 0.02523886203220195\n",
      "mean of converted in df_ad is 0.025546559636683747\n",
      "mean of converted in df_psa is 0.01785410644448223\n"
     ]
    }
   ],
   "source": [
    "# Calculate Mean \n",
    "\n",
    "mean_ad_converted = df_ad['converted'].mean()\n",
    "mean_psa_converted = df_psa['converted'].mean()\n",
    "total_converted = df['converted'].mean()\n",
    "print(f'mean of converted in df is {total_converted}')\n",
    "print(f'mean of converted in df_ad is {mean_ad_converted}')\n",
    "print(f'mean of converted in df_psa is {mean_psa_converted}')"
   ]
  },
  {
   "cell_type": "code",
   "execution_count": 6,
   "id": "20e5d824",
   "metadata": {
    "execution": {
     "iopub.execute_input": "2023-08-12T07:55:01.267520Z",
     "iopub.status.busy": "2023-08-12T07:55:01.266818Z",
     "iopub.status.idle": "2023-08-12T07:55:01.274468Z",
     "shell.execute_reply": "2023-08-12T07:55:01.273164Z"
    },
    "papermill": {
     "duration": 0.018065,
     "end_time": "2023-08-12T07:55:01.277690",
     "exception": false,
     "start_time": "2023-08-12T07:55:01.259625",
     "status": "completed"
    },
    "tags": []
   },
   "outputs": [],
   "source": [
    "# Simulating Data\n",
    "\n",
    "new_converted = np.random.binomial(len(df_ad), total_converted, 10000) / len(df_ad)\n",
    "old_converted = np.random.binomial(len(df_psa), total_converted, 10000) / len(df_psa)"
   ]
  },
  {
   "cell_type": "code",
   "execution_count": 7,
   "id": "b3c08be3",
   "metadata": {
    "execution": {
     "iopub.execute_input": "2023-08-12T07:55:01.291238Z",
     "iopub.status.busy": "2023-08-12T07:55:01.290315Z",
     "iopub.status.idle": "2023-08-12T07:55:01.298944Z",
     "shell.execute_reply": "2023-08-12T07:55:01.297074Z"
    },
    "papermill": {
     "duration": 0.018613,
     "end_time": "2023-08-12T07:55:01.301694",
     "exception": false,
     "start_time": "2023-08-12T07:55:01.283081",
     "status": "completed"
    },
    "tags": []
   },
   "outputs": [
    {
     "name": "stdout",
     "output_type": "stream",
     "text": [
      "0.0\n"
     ]
    }
   ],
   "source": [
    "# Calculate P-Value\n",
    "\n",
    "p_diffs = new_converted - old_converted\n",
    "ab_data_diff = mean_ad_converted - mean_psa_converted\n",
    "p_value = (p_diffs > ab_data_diff).mean() * 100\n",
    "print(p_value)"
   ]
  },
  {
   "cell_type": "code",
   "execution_count": 8,
   "id": "665ace7e",
   "metadata": {
    "execution": {
     "iopub.execute_input": "2023-08-12T07:55:01.314062Z",
     "iopub.status.busy": "2023-08-12T07:55:01.313208Z",
     "iopub.status.idle": "2023-08-12T07:55:01.320107Z",
     "shell.execute_reply": "2023-08-12T07:55:01.319277Z"
    },
    "papermill": {
     "duration": 0.017273,
     "end_time": "2023-08-12T07:55:01.324046",
     "exception": false,
     "start_time": "2023-08-12T07:55:01.306773",
     "status": "completed"
    },
    "tags": []
   },
   "outputs": [
    {
     "name": "stdout",
     "output_type": "stream",
     "text": [
      "Seeing ads increased average sales by 0.007692453192201517.\n"
     ]
    }
   ],
   "source": [
    "# Make Decision\n",
    "\n",
    "if p_value < 0.05:\n",
    "    print(f\"Seeing ads increased average sales by {mean_ad_converted-mean_psa_converted}.\")\n",
    "else:\n",
    "    print(\"doesn't meaningful difference\")"
   ]
  }
 ],
 "metadata": {
  "kernelspec": {
   "display_name": "Python 3",
   "language": "python",
   "name": "python3"
  },
  "language_info": {
   "codemirror_mode": {
    "name": "ipython",
    "version": 3
   },
   "file_extension": ".py",
   "mimetype": "text/x-python",
   "name": "python",
   "nbconvert_exporter": "python",
   "pygments_lexer": "ipython3",
   "version": "3.10.12"
  },
  "papermill": {
   "default_parameters": {},
   "duration": 14.168831,
   "end_time": "2023-08-12T07:55:02.353487",
   "environment_variables": {},
   "exception": null,
   "input_path": "__notebook__.ipynb",
   "output_path": "__notebook__.ipynb",
   "parameters": {},
   "start_time": "2023-08-12T07:54:48.184656",
   "version": "2.4.0"
  }
 },
 "nbformat": 4,
 "nbformat_minor": 5
}
