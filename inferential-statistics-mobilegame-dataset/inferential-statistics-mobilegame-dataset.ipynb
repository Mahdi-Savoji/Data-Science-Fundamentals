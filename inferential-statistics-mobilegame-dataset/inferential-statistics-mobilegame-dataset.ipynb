{
 "cells": [
  {
   "cell_type": "markdown",
   "id": "abb0240c",
   "metadata": {
    "papermill": {
     "duration": 0.004297,
     "end_time": "2023-08-12T08:18:31.960043",
     "exception": false,
     "start_time": "2023-08-12T08:18:31.955746",
     "status": "completed"
    },
    "tags": []
   },
   "source": [
    "<h1 style=\"line-height:50px;;background:#9eb5db;border-radius:15px;height:50px;text-align:center;border:2px ridge;\n",
    "color:white;\">Inferential Statistics</h1>"
   ]
  },
  {
   "cell_type": "markdown",
   "id": "4a1cff33",
   "metadata": {
    "papermill": {
     "duration": 0.00327,
     "end_time": "2023-08-12T08:18:31.974061",
     "exception": false,
     "start_time": "2023-08-12T08:18:31.970791",
     "status": "completed"
    },
    "tags": []
   },
   "source": [
    "<div style=\"background:#9eb5db;border-radius:15px;\"><h2 style=\"line-height:50px;height:50px;margin-left:20px\">Requirements\n",
    "</h2></div>"
   ]
  },
  {
   "cell_type": "code",
   "execution_count": 1,
   "id": "296f16a4",
   "metadata": {
    "execution": {
     "iopub.execute_input": "2023-08-12T08:18:31.984881Z",
     "iopub.status.busy": "2023-08-12T08:18:31.983865Z",
     "iopub.status.idle": "2023-08-12T08:18:33.303629Z",
     "shell.execute_reply": "2023-08-12T08:18:33.302525Z"
    },
    "papermill": {
     "duration": 1.327584,
     "end_time": "2023-08-12T08:18:33.306491",
     "exception": false,
     "start_time": "2023-08-12T08:18:31.978907",
     "status": "completed"
    },
    "tags": []
   },
   "outputs": [
    {
     "name": "stderr",
     "output_type": "stream",
     "text": [
      "/opt/conda/lib/python3.10/site-packages/scipy/__init__.py:146: UserWarning: A NumPy version >=1.16.5 and <1.23.0 is required for this version of SciPy (detected version 1.23.5\n",
      "  warnings.warn(f\"A NumPy version >={np_minversion} and <{np_maxversion}\"\n"
     ]
    }
   ],
   "source": [
    "import numpy as np\n",
    "import pandas as pd\n",
    "import matplotlib.pyplot as plt\n",
    "from scipy.stats import shapiro\n",
    "from statsmodels.graphics.gofplots import qqplot\n",
    "from scipy.stats import mannwhitneyu"
   ]
  },
  {
   "cell_type": "markdown",
   "id": "7bb1cd30",
   "metadata": {
    "papermill": {
     "duration": 0.003616,
     "end_time": "2023-08-12T08:18:33.314104",
     "exception": false,
     "start_time": "2023-08-12T08:18:33.310488",
     "status": "completed"
    },
    "tags": []
   },
   "source": [
    "<div style=\"background:#9eb5db;border-radius:15px;\"><h2 style=\"line-height:50px;height:50px;margin-left:20px\">Problem\n",
    "</h2></div>"
   ]
  },
  {
   "cell_type": "code",
   "execution_count": 2,
   "id": "b68807be",
   "metadata": {
    "execution": {
     "iopub.execute_input": "2023-08-12T08:18:33.323720Z",
     "iopub.status.busy": "2023-08-12T08:18:33.323249Z",
     "iopub.status.idle": "2023-08-12T08:18:33.448828Z",
     "shell.execute_reply": "2023-08-12T08:18:33.447797Z"
    },
    "papermill": {
     "duration": 0.133467,
     "end_time": "2023-08-12T08:18:33.451386",
     "exception": false,
     "start_time": "2023-08-12T08:18:33.317919",
     "status": "completed"
    },
    "tags": []
   },
   "outputs": [],
   "source": [
    "# Read Dataset\n",
    "\n",
    "df = pd.read_csv('mibilegame.csv')"
   ]
  },
  {
   "cell_type": "code",
   "execution_count": 3,
   "id": "7ab8b374",
   "metadata": {
    "execution": {
     "iopub.execute_input": "2023-08-12T08:18:33.461274Z",
     "iopub.status.busy": "2023-08-12T08:18:33.460834Z",
     "iopub.status.idle": "2023-08-12T08:18:33.516392Z",
     "shell.execute_reply": "2023-08-12T08:18:33.514938Z"
    },
    "papermill": {
     "duration": 0.064505,
     "end_time": "2023-08-12T08:18:33.520050",
     "exception": false,
     "start_time": "2023-08-12T08:18:33.455545",
     "status": "completed"
    },
    "tags": []
   },
   "outputs": [],
   "source": [
    "# Split Data\n",
    "\n",
    "df_gate_30 = df[df['version'] == 'gate_30']\n",
    "df_gate_40 = df[df['version'] == 'gate_40']"
   ]
  },
  {
   "cell_type": "code",
   "execution_count": 4,
   "id": "df04d16a",
   "metadata": {
    "execution": {
     "iopub.execute_input": "2023-08-12T08:18:33.531320Z",
     "iopub.status.busy": "2023-08-12T08:18:33.530783Z",
     "iopub.status.idle": "2023-08-12T08:18:33.541000Z",
     "shell.execute_reply": "2023-08-12T08:18:33.539698Z"
    },
    "papermill": {
     "duration": 0.019704,
     "end_time": "2023-08-12T08:18:33.544189",
     "exception": false,
     "start_time": "2023-08-12T08:18:33.524485",
     "status": "completed"
    },
    "tags": []
   },
   "outputs": [
    {
     "name": "stdout",
     "output_type": "stream",
     "text": [
      "mean of sum_gamerounds in df is 51.8724567297564\n",
      "mean of sum_gamerounds in df_gate_40 is 51.29877552814966\n",
      "mean of sum_gamerounds in df_gate_30 is 52.45626398210291\n"
     ]
    }
   ],
   "source": [
    "# Calculate Mean\n",
    "\n",
    "gate_30_game_round = df_gate_30['sum_gamerounds'].mean()\n",
    "gate_40_game_round = df_gate_40['sum_gamerounds'].mean()\n",
    "total_game_round = df['sum_gamerounds'].mean()\n",
    "print(f'mean of sum_gamerounds in df is {total_game_round}')\n",
    "print(f'mean of sum_gamerounds in df_gate_40 is {gate_40_game_round}')\n",
    "print(f'mean of sum_gamerounds in df_gate_30 is {gate_30_game_round}')"
   ]
  },
  {
   "cell_type": "code",
   "execution_count": 5,
   "id": "754ed0b7",
   "metadata": {
    "execution": {
     "iopub.execute_input": "2023-08-12T08:18:33.554738Z",
     "iopub.status.busy": "2023-08-12T08:18:33.554335Z",
     "iopub.status.idle": "2023-08-12T08:18:34.073887Z",
     "shell.execute_reply": "2023-08-12T08:18:34.072744Z"
    },
    "papermill": {
     "duration": 0.529148,
     "end_time": "2023-08-12T08:18:34.077617",
     "exception": false,
     "start_time": "2023-08-12T08:18:33.548469",
     "status": "completed"
    },
    "tags": []
   },
   "outputs": [
    {
     "name": "stdout",
     "output_type": "stream",
     "text": [
      "Shapiro-Wilk test results: statistic = 0.1441, p-value = 0.0000\n"
     ]
    },
    {
     "name": "stderr",
     "output_type": "stream",
     "text": [
      "/opt/conda/lib/python3.10/site-packages/scipy/stats/morestats.py:1760: UserWarning: p-value may not be accurate for N > 5000.\n",
      "  warnings.warn(\"p-value may not be accurate for N > 5000.\")\n"
     ]
    },
    {
     "data": {
      "image/png": "[encoded data removed]",
      "text/plain": [
       "<Figure size 640x480 with 1 Axes>"
      ]
     },
     "metadata": {},
     "output_type": "display_data"
    },
    {
     "name": "stdout",
     "output_type": "stream",
     "text": [
      "As it is seen from p-value in shapiro test less than 0.05 and slope of q-q plot isn't closer to 1 \n",
      "distribuiton of data isn't noraml,it's mean we can't use t-test for calculate p-value.\n"
     ]
    }
   ],
   "source": [
    "# Calculate Data Distribution \n",
    "\n",
    "# because number of your data is greater than 5000 we use q-q plot to be sure. \n",
    "\n",
    "sum_gamerounds = df['sum_gamerounds']\n",
    "stat, p = shapiro(sum_gamerounds)\n",
    "print(\"Shapiro-Wilk test results: statistic = {:.4f}, p-value = {:.4f}\".format(stat, p))\n",
    "qqplot(sum_gamerounds, line='s')\n",
    "plt.show()\n",
    "print(\"\"\"As it is seen from p-value in shapiro test less than 0.05 and slope of q-q plot isn't closer to 1 \n",
    "distribuiton of data isn't noraml,it's mean we can't use t-test for calculate p-value.\"\"\")"
   ]
  },
  {
   "cell_type": "code",
   "execution_count": 6,
   "id": "a98599bd",
   "metadata": {
    "execution": {
     "iopub.execute_input": "2023-08-12T08:18:34.089657Z",
     "iopub.status.busy": "2023-08-12T08:18:34.089268Z",
     "iopub.status.idle": "2023-08-12T08:18:34.232357Z",
     "shell.execute_reply": "2023-08-12T08:18:34.230735Z"
    },
    "papermill": {
     "duration": 0.15238,
     "end_time": "2023-08-12T08:18:34.235058",
     "exception": false,
     "start_time": "2023-08-12T08:18:34.082678",
     "status": "completed"
    },
    "tags": []
   },
   "outputs": [
    {
     "name": "stdout",
     "output_type": "stream",
     "text": [
      "Mann-Whitney U test results: statistic = 1024331250.5, p-value = 0.05020880772044255\n"
     ]
    }
   ],
   "source": [
    "# Calculate P-Value with U-Test\n",
    "\n",
    "sum_gamerounds_gate_30 = df_gate_30['sum_gamerounds']\n",
    "sum_gamerounds_gate_40 = df_gate_40['sum_gamerounds']\n",
    "\n",
    "stat, p_value = mannwhitneyu(sum_gamerounds_gate_30, sum_gamerounds_gate_40, alternative='two-sided')\n",
    "print(\"Mann-Whitney U test results: statistic = {}, p-value = {}\".format(stat, p_value))"
   ]
  },
  {
   "cell_type": "code",
   "execution_count": 7,
   "id": "5da49f28",
   "metadata": {
    "execution": {
     "iopub.execute_input": "2023-08-12T08:18:34.247273Z",
     "iopub.status.busy": "2023-08-12T08:18:34.246859Z",
     "iopub.status.idle": "2023-08-12T08:18:34.254580Z",
     "shell.execute_reply": "2023-08-12T08:18:34.253067Z"
    },
    "papermill": {
     "duration": 0.016329,
     "end_time": "2023-08-12T08:18:34.256743",
     "exception": false,
     "start_time": "2023-08-12T08:18:34.240414",
     "status": "completed"
    },
    "tags": []
   },
   "outputs": [
    {
     "name": "stdout",
     "output_type": "stream",
     "text": [
      "Seeing ads reduced the average sum game round by 1.157488453953249.\n"
     ]
    }
   ],
   "source": [
    "# Make Decision\n",
    "\n",
    "if p_value < 0.1:\n",
    "    print(f\"Seeing ads reduced the average sum game round by {gate_30_game_round-gate_40_game_round}.\")\n",
    "else:\n",
    "    print(\"doesn't meaningful difference\")"
   ]
  }
 ],
 "metadata": {
  "kernelspec": {
   "display_name": "Python 3",
   "language": "python",
   "name": "python3"
  },
  "language_info": {
   "codemirror_mode": {
    "name": "ipython",
    "version": 3
   },
   "file_extension": ".py",
   "mimetype": "text/x-python",
   "name": "python",
   "nbconvert_exporter": "python",
   "pygments_lexer": "ipython3",
   "version": "3.10.12"
  },
  "papermill": {
   "default_parameters": {},
   "duration": 15.012454,
   "end_time": "2023-08-12T08:18:35.285392",
   "environment_variables": {},
   "exception": null,
   "input_path": "__notebook__.ipynb",
   "output_path": "__notebook__.ipynb",
   "parameters": {},
   "start_time": "2023-08-12T08:18:20.272938",
   "version": "2.4.0"
  }
 },
 "nbformat": 4,
 "nbformat_minor": 5
}
